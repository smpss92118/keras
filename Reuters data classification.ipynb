{
 "cells": [
  {
   "cell_type": "code",
   "execution_count": 2,
   "metadata": {},
   "outputs": [
    {
     "name": "stdout",
     "output_type": "stream",
     "text": [
      "Downloading data from https://storage.googleapis.com/tensorflow/tf-keras-datasets/reuters.npz\n",
      "2113536/2110848 [==============================] - 3s 1us/step\n"
     ]
    },
    {
     "name": "stderr",
     "output_type": "stream",
     "text": [
      "/Users/pengsongning/dp_ml/env/lib/python3.7/site-packages/tensorflow/python/keras/datasets/reuters.py:148: VisibleDeprecationWarning: Creating an ndarray from ragged nested sequences (which is a list-or-tuple of lists-or-tuples-or ndarrays with different lengths or shapes) is deprecated. If you meant to do this, you must specify 'dtype=object' when creating the ndarray\n",
      "  x_train, y_train = np.array(xs[:idx]), np.array(labels[:idx])\n",
      "/Users/pengsongning/dp_ml/env/lib/python3.7/site-packages/tensorflow/python/keras/datasets/reuters.py:149: VisibleDeprecationWarning: Creating an ndarray from ragged nested sequences (which is a list-or-tuple of lists-or-tuples-or ndarrays with different lengths or shapes) is deprecated. If you meant to do this, you must specify 'dtype=object' when creating the ndarray\n",
      "  x_test, y_test = np.array(xs[idx:]), np.array(labels[idx:])\n"
     ]
    }
   ],
   "source": [
    "from keras.datasets import reuters\n",
    "(train_data,train_labels),(test_data,test_labels) = reuters.load_data(num_words=10000)"
   ]
  },
  {
   "cell_type": "code",
   "execution_count": 17,
   "metadata": {},
   "outputs": [
    {
     "data": {
      "text/plain": [
       "45"
      ]
     },
     "execution_count": 17,
     "metadata": {},
     "output_type": "execute_result"
    }
   ],
   "source": [
    "import math\n",
    "#min(test_labels) #0\n",
    "#max(test_labels) #45\n",
    "#labels介於0~45之間"
   ]
  },
  {
   "cell_type": "code",
   "execution_count": 20,
   "metadata": {},
   "outputs": [],
   "source": [
    "import numpy as np\n",
    "\n",
    "def vectorize_sequences(sequences,dimension=10000):\n",
    "    results = np.zeros((len(sequences),dimension))\n",
    "    for i, sequence in enumerate(sequences):\n",
    "        results[i,sequence] = 1.\n",
    "    return results\n",
    "\n",
    "x_train = vectorize_sequences(train_data)\n",
    "x_test = vectorize_sequences(test_data)"
   ]
  },
  {
   "cell_type": "code",
   "execution_count": 25,
   "metadata": {},
   "outputs": [],
   "source": [
    "from keras import models\n",
    "from keras import layers\n",
    "\n",
    "model = models.Sequential()\n",
    "model.add(layers.Dense(64,activation='relu', input_shape=(10000,)))#64單元隱藏層（輸入層 -> 需要input_shape）\n",
    "model.add(layers.Dense(64,activation='relu'))#64單元隱藏層 input_shape會自動設定成上一層的輸出shape\n",
    "model.add(layers.Dense(46,activation='softmax')) #因為labels介於0~45之間,所以要46個output"
   ]
  },
  {
   "cell_type": "markdown",
   "metadata": {},
   "source": [
    "softmax : 它能將一個含任意實數的K維向量 Z「壓縮」到另一個 K維實向量 f(Z)中，使得每一個元素的範圍都在(0,1)之間，\n",
    "並且所有元素的和為1(也可視為一個 (k-1)維的hyperplan，因為總和為1，所以是subspace)"
   ]
  },
  {
   "cell_type": "code",
   "execution_count": 27,
   "metadata": {},
   "outputs": [],
   "source": [
    "model.compile(optimizer='rmsprop', #無論任何問,rmsprop都是不錯的選擇\n",
    "             loss='categorical_crossentropy',#一般來說，如果上一是用softmax的話，都會使用categorical_crossentropy\n",
    "             metrics=['accuracy'])"
   ]
  },
  {
   "cell_type": "code",
   "execution_count": 31,
   "metadata": {},
   "outputs": [],
   "source": [
    "from keras.utils.np_utils import to_categorical\n",
    "one_hot_train_labels = to_categorical(train_labels)\n",
    "one_hot_test_labels = to_categorical(test_labels)\n",
    "x_val = x_train[:1000]\n",
    "partial_x_train = x_train[1000:]\n",
    "\n",
    "y_val = one_hot_train_labels[:1000]\n",
    "partial_y_train = one_hot_train_labels[1000:]"
   ]
  },
  {
   "cell_type": "code",
   "execution_count": 32,
   "metadata": {},
   "outputs": [
    {
     "name": "stdout",
     "output_type": "stream",
     "text": [
      "Epoch 1/20\n",
      "16/16 [==============================] - 1s 71ms/step - loss: 2.8287 - accuracy: 0.5152 - val_loss: 1.8650 - val_accuracy: 0.6410\n",
      "Epoch 2/20\n",
      "16/16 [==============================] - 1s 40ms/step - loss: 1.4941 - accuracy: 0.6963 - val_loss: 1.3430 - val_accuracy: 0.7140\n",
      "Epoch 3/20\n",
      "16/16 [==============================] - 1s 36ms/step - loss: 1.0873 - accuracy: 0.7676 - val_loss: 1.1806 - val_accuracy: 0.7400\n",
      "Epoch 4/20\n",
      "16/16 [==============================] - 1s 45ms/step - loss: 0.8489 - accuracy: 0.8247 - val_loss: 1.0579 - val_accuracy: 0.7680\n",
      "Epoch 5/20\n",
      "16/16 [==============================] - 1s 35ms/step - loss: 0.6734 - accuracy: 0.8649 - val_loss: 1.0304 - val_accuracy: 0.7700\n",
      "Epoch 6/20\n",
      "16/16 [==============================] - 1s 34ms/step - loss: 0.5433 - accuracy: 0.8893 - val_loss: 0.9211 - val_accuracy: 0.8060\n",
      "Epoch 7/20\n",
      "16/16 [==============================] - 1s 34ms/step - loss: 0.4309 - accuracy: 0.9098 - val_loss: 0.8919 - val_accuracy: 0.8050\n",
      "Epoch 8/20\n",
      "16/16 [==============================] - 1s 33ms/step - loss: 0.3493 - accuracy: 0.9273 - val_loss: 0.8870 - val_accuracy: 0.8040\n",
      "Epoch 9/20\n",
      "16/16 [==============================] - 1s 35ms/step - loss: 0.2862 - accuracy: 0.9385 - val_loss: 0.9154 - val_accuracy: 0.7980\n",
      "Epoch 10/20\n",
      "16/16 [==============================] - 1s 39ms/step - loss: 0.2441 - accuracy: 0.9436 - val_loss: 0.8996 - val_accuracy: 0.8200\n",
      "Epoch 11/20\n",
      "16/16 [==============================] - 1s 32ms/step - loss: 0.2075 - accuracy: 0.9505 - val_loss: 0.9181 - val_accuracy: 0.8060\n",
      "Epoch 12/20\n",
      "16/16 [==============================] - 1s 35ms/step - loss: 0.1822 - accuracy: 0.9525 - val_loss: 0.9193 - val_accuracy: 0.8180\n",
      "Epoch 13/20\n",
      "16/16 [==============================] - 1s 33ms/step - loss: 0.1671 - accuracy: 0.9531 - val_loss: 0.9288 - val_accuracy: 0.8130\n",
      "Epoch 14/20\n",
      "16/16 [==============================] - 1s 34ms/step - loss: 0.1526 - accuracy: 0.9559 - val_loss: 0.9579 - val_accuracy: 0.8110\n",
      "Epoch 15/20\n",
      "16/16 [==============================] - 1s 33ms/step - loss: 0.1377 - accuracy: 0.9548 - val_loss: 0.9660 - val_accuracy: 0.8130\n",
      "Epoch 16/20\n",
      "16/16 [==============================] - 1s 33ms/step - loss: 0.1335 - accuracy: 0.9565 - val_loss: 1.0340 - val_accuracy: 0.7930\n",
      "Epoch 17/20\n",
      "16/16 [==============================] - 1s 33ms/step - loss: 0.1217 - accuracy: 0.9550 - val_loss: 1.0042 - val_accuracy: 0.7990\n",
      "Epoch 18/20\n",
      "16/16 [==============================] - 1s 35ms/step - loss: 0.1198 - accuracy: 0.9568 - val_loss: 1.0012 - val_accuracy: 0.8140\n",
      "Epoch 19/20\n",
      "16/16 [==============================] - 1s 34ms/step - loss: 0.1153 - accuracy: 0.9568 - val_loss: 1.0602 - val_accuracy: 0.7990\n",
      "Epoch 20/20\n",
      "16/16 [==============================] - 1s 36ms/step - loss: 0.1119 - accuracy: 0.9565 - val_loss: 1.0627 - val_accuracy: 0.8090\n"
     ]
    }
   ],
   "source": [
    "history = model.fit(partial_x_train,\n",
    "                   partial_y_train,\n",
    "                   epochs=20,\n",
    "                   batch_size = 512,\n",
    "                   validation_data=(x_val,y_val))"
   ]
  },
  {
   "cell_type": "code",
   "execution_count": 33,
   "metadata": {},
   "outputs": [],
   "source": [
    "history_dict = history.history"
   ]
  },
  {
   "cell_type": "code",
   "execution_count": 39,
   "metadata": {},
   "outputs": [
    {
     "data": {
      "text/plain": [
       "dict_keys(['loss', 'accuracy', 'val_loss', 'val_accuracy'])"
      ]
     },
     "execution_count": 39,
     "metadata": {},
     "output_type": "execute_result"
    }
   ],
   "source": [
    "history_dict.keys()"
   ]
  },
  {
   "cell_type": "code",
   "execution_count": 35,
   "metadata": {},
   "outputs": [
    {
     "data": {
      "image/png": "[encoded data removed]",
      "text/plain": [
       "<Figure size 432x288 with 1 Axes>"
      ]
     },
     "metadata": {
      "needs_background": "light"
     },
     "output_type": "display_data"
    }
   ],
   "source": [
    "import matplotlib.pyplot as plt\n",
    "\n",
    "loss_values = history_dict['loss']\n",
    "val_loss_value = history_dict['val_loss']\n",
    "\n",
    "epochs = range(1,len(loss_values)+1) \n",
    "plt.plot(epochs,loss_values,'bo',label='Training loss')# x是週期,y是loss_values\n",
    "plt.plot(epochs,val_loss_value,'b',label='Validation loss')\n",
    "\n",
    "plt.title('Training and Validation loss')\n",
    "plt.xlabel('Epochs')\n",
    "plt.ylabel('Loss')\n",
    "plt.legend()\n",
    "\n",
    "plt.show()"
   ]
  },
  {
   "cell_type": "code",
   "execution_count": 41,
   "metadata": {},
   "outputs": [
    {
     "data": {
      "image/png": "[encoded data removed]",
      "text/plain": [
       "<Figure size 432x288 with 1 Axes>"
      ]
     },
     "metadata": {
      "needs_background": "light"
     },
     "output_type": "display_data"
    }
   ],
   "source": [
    "plt.clf()\n",
    "acc = history_dict['accuracy']\n",
    "val_acc = history_dict['val_accuracy']\n",
    "plt.plot(epochs,acc,'bo',label = 'Training Accurancy')\n",
    "plt.plot(epochs,val_acc,'b',label = 'Validation Accurancy')\n",
    "\n",
    "plt.title('Training and Validation accurancy')\n",
    "plt.xlabel('Epochs')\n",
    "plt.ylabel('Accurancy')\n",
    "plt.legend()\n",
    "\n",
    "plt.show()"
   ]
  },
  {
   "cell_type": "markdown",
   "metadata": {},
   "source": [
    "- 大概在第八週期開始loss不下降，所以重新訓練"
   ]
  },
  {
   "cell_type": "code",
   "execution_count": 82,
   "metadata": {},
   "outputs": [
    {
     "name": "stdout",
     "output_type": "stream",
     "text": [
      "Epoch 1/9\n",
      "16/16 [==============================] - 1s 49ms/step - loss: 0.0772 - accuracy: 0.4287 - val_loss: 0.0536 - val_accuracy: 0.6180\n",
      "Epoch 2/9\n",
      "16/16 [==============================] - 1s 40ms/step - loss: 0.0444 - accuracy: 0.6953 - val_loss: 0.0411 - val_accuracy: 0.7190\n",
      "Epoch 3/9\n",
      "16/16 [==============================] - 1s 38ms/step - loss: 0.0341 - accuracy: 0.7600 - val_loss: 0.0367 - val_accuracy: 0.7430\n",
      "Epoch 4/9\n",
      "16/16 [==============================] - 1s 45ms/step - loss: 0.0278 - accuracy: 0.8117 - val_loss: 0.0343 - val_accuracy: 0.7630\n",
      "Epoch 5/9\n",
      "16/16 [==============================] - 1s 38ms/step - loss: 0.0232 - accuracy: 0.8462 - val_loss: 0.0325 - val_accuracy: 0.7850\n",
      "Epoch 6/9\n",
      "16/16 [==============================] - 1s 38ms/step - loss: 0.0194 - accuracy: 0.8700 - val_loss: 0.0314 - val_accuracy: 0.8030\n",
      "Epoch 7/9\n",
      "16/16 [==============================] - 1s 38ms/step - loss: 0.0162 - accuracy: 0.8924 - val_loss: 0.0307 - val_accuracy: 0.8040\n",
      "Epoch 8/9\n",
      "16/16 [==============================] - 1s 45ms/step - loss: 0.0136 - accuracy: 0.9123 - val_loss: 0.0302 - val_accuracy: 0.8250\n",
      "Epoch 9/9\n",
      "16/16 [==============================] - 1s 36ms/step - loss: 0.0115 - accuracy: 0.9281 - val_loss: 0.0307 - val_accuracy: 0.8090\n",
      "71/71 [==============================] - 0s 3ms/step - loss: 0.0326 - accuracy: 0.7814\n"
     ]
    }
   ],
   "source": [
    "##可以在這裡坐增加隱藏層or增加神經元or改變韓式的測試\n",
    "model = models.Sequential()\n",
    "model.add(layers.Dense(64,activation='relu', input_shape=(10000,)))#64單元隱藏層（輸入層 -> 需要input_shape）\n",
    "model.add(layers.Dense(64,activation='relu'))#64單元隱藏層 input_shape會自動設定成上一層的輸出shape\n",
    "model.add(layers.Dense(46,activation='softmax')) #因為labels介於0~45之間,所以要46個output\n",
    "\n",
    "model.compile(optimizer='rmsprop', #無論任何問,rmsprop都是不錯的選擇\n",
    "             #loss='categorical_crossentropy',#一般來說，如果上一是用softmax的話，都會使用categorical_crossentropy\n",
    "             loss='binary_crossentropy',\n",
    "             metrics=['accuracy'])\n",
    "\n",
    "model.fit(partial_x_train,\n",
    "          partial_y_train,\n",
    "          epochs=9,\n",
    "          batch_size = 512,\n",
    "          validation_data=(x_val,y_val))\n",
    "\n",
    "results = model.evaluate(x_test,one_hot_test_labels)"
   ]
  },
  {
   "cell_type": "code",
   "execution_count": 83,
   "metadata": {},
   "outputs": [
    {
     "data": {
      "text/plain": [
       "[0.032625917345285416, 0.7813891172409058]"
      ]
     },
     "execution_count": 83,
     "metadata": {},
     "output_type": "execute_result"
    }
   ],
   "source": [
    "results"
   ]
  },
  {
   "cell_type": "code",
   "execution_count": null,
   "metadata": {},
   "outputs": [],
   "source": []
  }
 ],
 "metadata": {
  "kernelspec": {
   "display_name": "Python 3",
   "language": "python",
   "name": "python3"
  },
  "language_info": {
   "codemirror_mode": {
    "name": "ipython",
    "version": 3
   },
   "file_extension": ".py",
   "mimetype": "text/x-python",
   "name": "python",
   "nbconvert_exporter": "python",
   "pygments_lexer": "ipython3",
   "version": "3.7.3"
  }
 },
 "nbformat": 4,
 "nbformat_minor": 4
}
